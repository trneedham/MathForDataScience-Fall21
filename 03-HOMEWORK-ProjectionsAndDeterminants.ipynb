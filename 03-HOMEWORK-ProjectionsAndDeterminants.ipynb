{
 "cells": [
  {
   "cell_type": "markdown",
   "metadata": {},
   "source": [
    "# Projections and Determinants\n",
    "\n",
    "In this assignment, you will write code to implement some of the formulas that we derived in class."
   ]
  },
  {
   "cell_type": "code",
   "execution_count": null,
   "metadata": {},
   "outputs": [],
   "source": [
    "import numpy as np"
   ]
  },
  {
   "cell_type": "markdown",
   "metadata": {},
   "source": [
    "### Orthogonal Projections"
   ]
  },
  {
   "cell_type": "markdown",
   "metadata": {},
   "source": [
    "**Problem 1** Consider the vector space $\\mathbb{R}^5$ with the standard dot product. Let $U \\subset \\mathbb{R}^5$ be the linear subspace\n",
    "$$\n",
    "U = \\mathrm{span}[ \n",
    "\\left[\\begin{array}{c}\n",
    "0 \\\\\n",
    "1 \\\\\n",
    "2 \\\\\n",
    "3 \\\\\n",
    "4 \\end{array}\\right],\n",
    "\\left[\\begin{array}{c}\n",
    "-1 \\\\\n",
    "0 \\\\\n",
    "0 \\\\\n",
    "-7 \\\\\n",
    "2 \\end{array}\\right],\n",
    "\\left[\\begin{array}{c}\n",
    "1 \\\\\n",
    "1 \\\\\n",
    "1 \\\\\n",
    "1 \\\\\n",
    "1 \\end{array}\\right]]\n",
    "$$\n",
    "\n",
    "Let\n",
    "$$\n",
    "\\vec{x} = \\left[\\begin{array}{c}\n",
    "-10 \\\\\n",
    "-9 \\\\\n",
    "0 \\\\\n",
    "0 \\\\\n",
    "5 \\end{array}\\right].\n",
    "$$\n",
    "\n",
    "Using the formula that we derived in class, determine $\\pi_U(\\vec{v})$, the orthogonal projection of $\\vec{v}$ onto $U$. Do this in steps, as indicated in the comments of the following code blocks."
   ]
  },
  {
   "cell_type": "code",
   "execution_count": null,
   "metadata": {},
   "outputs": [],
   "source": [
    "# Define a numpy array B whose columns form a basis for U. Print your matrix B.\n",
    "\n"
   ]
  },
  {
   "cell_type": "code",
   "execution_count": null,
   "metadata": {},
   "outputs": [],
   "source": [
    "# Compute the matrix B*(B^T*B)^{-1}*B^T from the projection formula. Store this matrix as P (for 'projection').\n",
    "# Print your matrix P.\n"
   ]
  },
  {
   "cell_type": "code",
   "execution_count": null,
   "metadata": {},
   "outputs": [],
   "source": [
    "# Compute the projection pi_U(x) by matrix multiplying P with the column vector x defined above. Print your answer.\n",
    "\n"
   ]
  },
  {
   "cell_type": "markdown",
   "metadata": {},
   "source": [
    "We saw in class that the formula for the projection matrix greatly simplifies if we choose an *orthogonal* basis for our subspace. In this case, the projection matrix is given by $B B^T$.\n",
    "\n",
    "The function `orth` from the `scipy` package automatically performs Gram-Schmidt orthogonalization. The function is imported below."
   ]
  },
  {
   "cell_type": "code",
   "execution_count": null,
   "metadata": {},
   "outputs": [],
   "source": [
    "from scipy.linalg import orth"
   ]
  },
  {
   "cell_type": "markdown",
   "metadata": {},
   "source": [
    "**Problem 2** Run your matrix `B` from above through the `orth` function and call the output `B_orth`. Use this orthogonalized basis matrix to recompute the projection matrix, and calle the result `P_orth`. Print your new projection matrix. Check that `P` (from above) and `P_orth` are really the same --- a handy function for doing this is `np.allclose(P,P_orth)` which returns `True` if all corresponding entries of the two matrices are approximately equal."
   ]
  },
  {
   "cell_type": "code",
   "execution_count": null,
   "metadata": {},
   "outputs": [],
   "source": [
    "## Problem 2 code goes here.\n"
   ]
  },
  {
   "cell_type": "markdown",
   "metadata": {},
   "source": [
    "### Determinants"
   ]
  },
  {
   "cell_type": "markdown",
   "metadata": {},
   "source": [
    "The following function computes the determinant of a 2x2 matrix (entered as a numpy array)."
   ]
  },
  {
   "cell_type": "code",
   "execution_count": null,
   "metadata": {},
   "outputs": [],
   "source": [
    "def two_by_two_determinant(A):\n",
    "    \n",
    "    # Input: 2x2 numpy array\n",
    "    # Output: determinant of the matrix, which is a number\n",
    "    \n",
    "    det = A[0,0]*A[1,1] - A[0,1]*A[1,0]\n",
    "    \n",
    "    return det"
   ]
  },
  {
   "cell_type": "markdown",
   "metadata": {},
   "source": [
    "It's always good to test your code! I typically test on a couple of simple examples where I know the answer, and then something more random."
   ]
  },
  {
   "cell_type": "code",
   "execution_count": null,
   "metadata": {},
   "outputs": [],
   "source": [
    "I = np.array([[1,0],\n",
    "             [0,1]])\n",
    "\n",
    "print(f'The determinant of \\n {I} \\n is {two_by_two_determinant(I)}')\n",
    "\n",
    "J = np.array([[0,1],\n",
    "             [1,0]])\n",
    "\n",
    "print(f'The determinant of \\n {J} \\n is {two_by_two_determinant(J)}')\n",
    "\n",
    "B = np.random.rand(2,2)\n",
    "\n",
    "print(f'The determinant of \\n {B} \\n is {two_by_two_determinant(B)}')"
   ]
  },
  {
   "cell_type": "markdown",
   "metadata": {},
   "source": [
    "Seems like it's working!"
   ]
  },
  {
   "cell_type": "markdown",
   "metadata": {},
   "source": [
    "**Problem 3** Write a function called `three_by_three_determinant` that computes the determinant of a 3x3 matrix. There are several ways to do this; feel free to use the `two_by_two_determinant` function within your code (if you want to)."
   ]
  },
  {
   "cell_type": "code",
   "execution_count": null,
   "metadata": {},
   "outputs": [],
   "source": [
    "## Problem 2 code goes here\n"
   ]
  },
  {
   "cell_type": "markdown",
   "metadata": {},
   "source": [
    "**Problem 4** Test your function by computing the determinant of the 3x3 identity matrix and compute the determinant of a random 3x3 matrix. "
   ]
  },
  {
   "cell_type": "code",
   "execution_count": null,
   "metadata": {},
   "outputs": [],
   "source": [
    "## Problem 3 code goes here\n"
   ]
  },
  {
   "cell_type": "markdown",
   "metadata": {},
   "source": [
    "Of course, determinant functions are built into `numpy`. The point of the problems above was to practice a bit of coding. We may as well test our functions against the built-in numpy function. \n",
    "\n",
    "Here is a test of the `2_by_2_determinant` function. I will generate a collection of random matrices, compute their determinants using my function and the `numpy` function and find the percentage of instances where the outputs agree. To account for tiny numerical errors, I'll use a function called `isclose` which determines equality up to a small tolerance."
   ]
  },
  {
   "cell_type": "code",
   "execution_count": null,
   "metadata": {},
   "outputs": [],
   "source": [
    "from math import isclose"
   ]
  },
  {
   "cell_type": "code",
   "execution_count": null,
   "metadata": {},
   "outputs": [],
   "source": [
    "num_trials = 20 #Number of random matrices to generate.\n",
    "\n",
    "successful_trials = 0 # initialize a counter for number of successful trials\n",
    "\n",
    "for j in range(num_trials):\n",
    "    \n",
    "    A = np.random.rand(2,2)\n",
    "    det1 = two_by_two_determinant(A) # Determinant computed via my function\n",
    "    det2 = np.linalg.det(A) # Determinant as computed by numpy\n",
    "    \n",
    "    if isclose(det1,det2):\n",
    "        successful_trials += 1 # If the determinants are approximately equal, add one to the count of good trials\n",
    "        \n",
    "print(f'The success rate is {successful_trials/num_trials*100} %')"
   ]
  },
  {
   "cell_type": "markdown",
   "metadata": {},
   "source": [
    "Looks good!"
   ]
  },
  {
   "cell_type": "markdown",
   "metadata": {},
   "source": [
    "**Problem 5** Run a similar experiment to test whether your `3_by_3_determinant` function agrees with the `numpy` determinant function."
   ]
  },
  {
   "cell_type": "code",
   "execution_count": null,
   "metadata": {},
   "outputs": [],
   "source": [
    "## Problem 4 code goes here\n"
   ]
  }
 ],
 "metadata": {
  "kernelspec": {
   "display_name": "Python 3",
   "language": "python",
   "name": "python3"
  },
  "language_info": {
   "codemirror_mode": {
    "name": "ipython",
    "version": 3
   },
   "file_extension": ".py",
   "mimetype": "text/x-python",
   "name": "python",
   "nbconvert_exporter": "python",
   "pygments_lexer": "ipython3",
   "version": "3.7.4"
  }
 },
 "nbformat": 4,
 "nbformat_minor": 2
}
